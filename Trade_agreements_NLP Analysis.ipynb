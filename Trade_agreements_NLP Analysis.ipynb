{
 "cells": [
  {
   "cell_type": "code",
   "execution_count": 1,
   "metadata": {},
   "outputs": [],
   "source": [
    "import numpy as np\n",
    "import pandas as pd\n",
    "import re\n",
    "import nltk\n",
    "import spacy\n",
    "import string"
   ]
  },
  {
   "cell_type": "code",
   "execution_count": 26,
   "metadata": {},
   "outputs": [
    {
     "name": "stdout",
     "output_type": "stream",
     "text": [
      "Collecting gensim\n",
      "  Downloading gensim-3.8.3-cp38-cp38-win_amd64.whl (24.2 MB)\n",
      "Requirement already satisfied: numpy>=1.11.3 in c:\\programdata\\anaconda3\\lib\\site-packages (from gensim) (1.19.1)\n",
      "Requirement already satisfied: scipy>=0.18.1 in c:\\programdata\\anaconda3\\lib\\site-packages (from gensim) (1.5.0)\n",
      "Collecting Cython==0.29.14\n",
      "  Downloading Cython-0.29.14-cp38-cp38-win_amd64.whl (1.7 MB)\n",
      "Collecting smart-open>=1.8.1\n",
      "  Downloading smart_open-2.2.1.tar.gz (122 kB)\n",
      "Requirement already satisfied: six>=1.5.0 in c:\\programdata\\anaconda3\\lib\\site-packages (from gensim) (1.15.0)\n",
      "Requirement already satisfied: requests in c:\\programdata\\anaconda3\\lib\\site-packages (from smart-open>=1.8.1->gensim) (2.24.0)\n",
      "Collecting boto3\n",
      "  Downloading boto3-1.15.10-py2.py3-none-any.whl (129 kB)\n",
      "Requirement already satisfied: idna<3,>=2.5 in c:\\programdata\\anaconda3\\lib\\site-packages (from requests->smart-open>=1.8.1->gensim) (2.10)\n",
      "Requirement already satisfied: chardet<4,>=3.0.2 in c:\\programdata\\anaconda3\\lib\\site-packages (from requests->smart-open>=1.8.1->gensim) (3.0.4)\n",
      "Requirement already satisfied: certifi>=2017.4.17 in c:\\programdata\\anaconda3\\lib\\site-packages (from requests->smart-open>=1.8.1->gensim) (2020.6.20)\n",
      "Requirement already satisfied: urllib3!=1.25.0,!=1.25.1,<1.26,>=1.21.1 in c:\\programdata\\anaconda3\\lib\\site-packages (from requests->smart-open>=1.8.1->gensim) (1.25.10)\n",
      "Collecting jmespath<1.0.0,>=0.7.1\n",
      "  Downloading jmespath-0.10.0-py2.py3-none-any.whl (24 kB)\n",
      "Collecting botocore<1.19.0,>=1.18.10\n",
      "  Downloading botocore-1.18.10-py2.py3-none-any.whl (6.7 MB)\n",
      "Collecting s3transfer<0.4.0,>=0.3.0\n",
      "  Downloading s3transfer-0.3.3-py2.py3-none-any.whl (69 kB)\n",
      "Requirement already satisfied: python-dateutil<3.0.0,>=2.1 in c:\\programdata\\anaconda3\\lib\\site-packages (from botocore<1.19.0,>=1.18.10->boto3->smart-open>=1.8.1->gensim) (2.8.1)\n",
      "Building wheels for collected packages: smart-open\n",
      "  Building wheel for smart-open (setup.py): started\n",
      "  Building wheel for smart-open (setup.py): finished with status 'done'\n",
      "  Created wheel for smart-open: filename=smart_open-2.2.1-py3-none-any.whl size=114118 sha256=045aaa1a64fd65b7818bb046d48152f3746dbb0cbab2c40ebf664712f3db8f3c\n",
      "  Stored in directory: c:\\users\\piyush a\\appdata\\local\\pip\\cache\\wheels\\b6\\6a\\26\\b0a146ee7d0fca1a80ee870ec234c455d704249f2bab1f8809\n",
      "Successfully built smart-open\n",
      "Installing collected packages: Cython, jmespath, botocore, s3transfer, boto3, smart-open, gensim\n",
      "  Attempting uninstall: Cython\n",
      "    Found existing installation: Cython 0.29.21\n",
      "    Uninstalling Cython-0.29.21:\n"
     ]
    },
    {
     "name": "stderr",
     "output_type": "stream",
     "text": [
      "ERROR: Could not install packages due to an EnvironmentError: [WinError 5] Access is denied: 'c:\\\\programdata\\\\anaconda3\\\\lib\\\\site-packages\\\\__pycache__\\\\cython.cpython-38.pyc'\n",
      "Consider using the `--user` option or check the permissions.\n",
      "\n"
     ]
    }
   ],
   "source": [
    "#!pip install spacy\n",
    "!pip install gensim"
   ]
  },
  {
   "cell_type": "code",
   "execution_count": 3,
   "metadata": {},
   "outputs": [
    {
     "name": "stdout",
     "output_type": "stream",
     "text": [
      " Volume in drive C has no label.\n",
      " Volume Serial Number is 9ED5-5957\n",
      "\n",
      " Directory of C:\\Users\\Piyush A\\Desktop\\TRAD\\MTP\\tota\n",
      "\n",
      "27-09-2020  23:56    <DIR>          .\n",
      "27-09-2020  23:56    <DIR>          ..\n",
      "27-09-2020  13:48    <DIR>          .ipynb_checkpoints\n",
      "27-09-2020  13:55               380 Flow_learnings.txt\n",
      "06-09-2020  11:51            19,748 LICENSE\n",
      "27-09-2020  23:56             4,959 MTP_NLP Analysis.ipynb\n",
      "06-09-2020  11:51           209,844 pta_1.xml\n",
      "06-09-2020  11:51             7,908 README.md\n",
      "13-05-2018  20:44    <DIR>          tota_course_euspb-master\n",
      "06-09-2020  11:51    <DIR>          xml\n",
      "               5 File(s)        242,839 bytes\n",
      "               5 Dir(s)  43,340,767,232 bytes free\n"
     ]
    }
   ],
   "source": [
    "ls"
   ]
  },
  {
   "cell_type": "code",
   "execution_count": 2,
   "metadata": {},
   "outputs": [],
   "source": [
    "import xml.etree.ElementTree as ET"
   ]
  },
  {
   "cell_type": "code",
   "execution_count": 3,
   "metadata": {},
   "outputs": [
    {
     "name": "stdout",
     "output_type": "stream",
     "text": [
      "<Element 'treaty' at 0x000002A7D06AC180>\n"
     ]
    }
   ],
   "source": [
    "myTree = ET.parse('pta_1.xml')\n",
    "myroot = myTree.getroot()\n",
    "print(myroot)"
   ]
  },
  {
   "cell_type": "code",
   "execution_count": 4,
   "metadata": {},
   "outputs": [
    {
     "name": "stdout",
     "output_type": "stream",
     "text": [
      "meta {} \n",
      "    \n",
      "body {} \n",
      "    \n"
     ]
    }
   ],
   "source": [
    "for x in myroot:\n",
    "    print(x.tag, x.attrib, x.text)"
   ]
  },
  {
   "cell_type": "code",
   "execution_count": 7,
   "metadata": {},
   "outputs": [
    {
     "name": "stdout",
     "output_type": "stream",
     "text": [
      "name {} Japan - Thailand\n",
      "type {} Free Trade Agreement & Economic Integration Agreement\n",
      "wto_rta_id {} 1\n",
      "treaty_identifier {} 1\n",
      "status {} In Force\n",
      "notification {} GATT Art. XXIV & GATS Art. V\n",
      "date_signed {} 2007-04-03\n",
      "date_into_force {} 2007-11-01\n",
      "date_notification {} 2007-10-25\n",
      "end_implementation {} 2022-12-31\n",
      "date_inactive {} None\n",
      "parties_original {} \n",
      "      \n",
      "parties {} \n",
      "      \n",
      "composition {} Bilateral\n",
      "region {} East Asia\n",
      "parties_wto {} Yes\n",
      "crossregional {} No\n",
      "language {} en\n",
      "source {'lang': 'en', 'type': 'full text'} http://www.mofa.go.jp/region/asia-paci/thailand/epa0704/agreement.pdf\n",
      "source {'lang': 'en', 'type': 'annex'} http://www.mofa.go.jp/region/asia-paci/thailand/epa0704/index.html\n"
     ]
    }
   ],
   "source": [
    "for x in myroot[0]:\n",
    "    print(x.tag, x.attrib, x.text)"
   ]
  },
  {
   "cell_type": "code",
   "execution_count": 8,
   "metadata": {},
   "outputs": [
    {
     "name": "stdout",
     "output_type": "stream",
     "text": [
      "chapter {'name': 'Preamble', 'chapter_identifier': '1'}\n",
      "chapter {'number': 'CHAPTER 1', 'name': 'General Provisions', 'chapter_identifier': '2'}\n",
      "chapter {'number': 'CHAPTER 2', 'name': 'Trade In Goods', 'chapter_identifier': '3'}\n",
      "chapter {'number': 'CHAPTER 3', 'name': 'Rules Of Origin', 'chapter_identifier': '4'}\n",
      "chapter {'number': 'CHAPTER 4', 'name': 'Customs Procedures', 'chapter_identifier': '5'}\n",
      "chapter {'number': 'CHAPTER 5', 'name': 'Paperless Trading', 'chapter_identifier': '6'}\n",
      "chapter {'number': 'CHAPTER 6', 'name': 'Mutual Recognition', 'chapter_identifier': '7'}\n",
      "chapter {'number': 'CHAPTER 7', 'name': 'Trade In Services', 'chapter_identifier': '8'}\n",
      "chapter {'number': 'CHAPTER 8', 'name': 'Investment', 'chapter_identifier': '9'}\n",
      "chapter {'number': 'CHAPTER 9', 'name': 'Movement Of Natural Persons', 'chapter_identifier': '10'}\n",
      "chapter {'number': 'CHAPTER 10', 'name': 'Intellectual Property', 'chapter_identifier': '11'}\n",
      "chapter {'number': 'CHAPTER 11', 'name': 'Government Procurement', 'chapter_identifier': '12'}\n",
      "chapter {'number': 'CHAPTER 12', 'name': 'Competition', 'chapter_identifier': '13'}\n",
      "chapter {'number': 'CHAPTER 13', 'name': 'Cooperation', 'chapter_identifier': '14'}\n",
      "chapter {'number': 'CHAPTER 14', 'name': 'Dispute Settlement', 'chapter_identifier': '15'}\n",
      "chapter {'number': 'CHAPTER 15', 'name': 'Final Provisions', 'chapter_identifier': '16'}\n",
      "chapter {'name': 'Conclusion', 'chapter_identifier': '17'}\n"
     ]
    }
   ],
   "source": [
    "for x in myroot[1]:\n",
    "    print(x.tag, x.attrib)"
   ]
  },
  {
   "cell_type": "code",
   "execution_count": 9,
   "metadata": {},
   "outputs": [],
   "source": [
    "Data_myroot_1_1 = pd.DataFrame(columns = [\"tag\",\"attrib\",\"text\"])\n",
    "for x in myroot[1][1]:\n",
    "    data = pd.DataFrame({\"tag\":x.tag, \"attrib\":x.attrib, \"text\":x.text})\n",
    "    Data_myroot_1_1 = pd.concat([Data_myroot_1_1, data])"
   ]
  },
  {
   "cell_type": "code",
   "execution_count": 10,
   "metadata": {},
   "outputs": [
    {
     "data": {
      "text/html": [
       "<div>\n",
       "<style scoped>\n",
       "    .dataframe tbody tr th:only-of-type {\n",
       "        vertical-align: middle;\n",
       "    }\n",
       "\n",
       "    .dataframe tbody tr th {\n",
       "        vertical-align: top;\n",
       "    }\n",
       "\n",
       "    .dataframe thead th {\n",
       "        text-align: right;\n",
       "    }\n",
       "</style>\n",
       "<table border=\"1\" class=\"dataframe\">\n",
       "  <thead>\n",
       "    <tr style=\"text-align: right;\">\n",
       "      <th></th>\n",
       "      <th>tag</th>\n",
       "      <th>attrib</th>\n",
       "      <th>text</th>\n",
       "    </tr>\n",
       "  </thead>\n",
       "  <tbody>\n",
       "    <tr>\n",
       "      <th>article_identifier</th>\n",
       "      <td>article</td>\n",
       "      <td>15</td>\n",
       "      <td>Communications between the Parties on any matt...</td>\n",
       "    </tr>\n",
       "    <tr>\n",
       "      <th>name</th>\n",
       "      <td>article</td>\n",
       "      <td>Communications</td>\n",
       "      <td>Communications between the Parties on any matt...</td>\n",
       "    </tr>\n",
       "    <tr>\n",
       "      <th>number</th>\n",
       "      <td>article</td>\n",
       "      <td>ARTICLE 14</td>\n",
       "      <td>Communications between the Parties on any matt...</td>\n",
       "    </tr>\n",
       "  </tbody>\n",
       "</table>\n",
       "</div>"
      ],
      "text/plain": [
       "                        tag          attrib  \\\n",
       "article_identifier  article              15   \n",
       "name                article  Communications   \n",
       "number              article      ARTICLE 14   \n",
       "\n",
       "                                                                 text  \n",
       "article_identifier  Communications between the Parties on any matt...  \n",
       "name                Communications between the Parties on any matt...  \n",
       "number              Communications between the Parties on any matt...  "
      ]
     },
     "execution_count": 10,
     "metadata": {},
     "output_type": "execute_result"
    }
   ],
   "source": [
    "data.head()"
   ]
  },
  {
   "cell_type": "code",
   "execution_count": 11,
   "metadata": {},
   "outputs": [
    {
     "data": {
      "text/html": [
       "<div>\n",
       "<style scoped>\n",
       "    .dataframe tbody tr th:only-of-type {\n",
       "        vertical-align: middle;\n",
       "    }\n",
       "\n",
       "    .dataframe tbody tr th {\n",
       "        vertical-align: top;\n",
       "    }\n",
       "\n",
       "    .dataframe thead th {\n",
       "        text-align: right;\n",
       "    }\n",
       "</style>\n",
       "<table border=\"1\" class=\"dataframe\">\n",
       "  <thead>\n",
       "    <tr style=\"text-align: right;\">\n",
       "      <th></th>\n",
       "      <th>tag</th>\n",
       "      <th>attrib</th>\n",
       "      <th>text</th>\n",
       "    </tr>\n",
       "  </thead>\n",
       "  <tbody>\n",
       "    <tr>\n",
       "      <th>article_identifier</th>\n",
       "      <td>article</td>\n",
       "      <td>2</td>\n",
       "      <td>The objectives of this Agreement are to:  (a) ...</td>\n",
       "    </tr>\n",
       "    <tr>\n",
       "      <th>name</th>\n",
       "      <td>article</td>\n",
       "      <td>Objectives</td>\n",
       "      <td>The objectives of this Agreement are to:  (a) ...</td>\n",
       "    </tr>\n",
       "    <tr>\n",
       "      <th>number</th>\n",
       "      <td>article</td>\n",
       "      <td>ARTICLE 1</td>\n",
       "      <td>The objectives of this Agreement are to:  (a) ...</td>\n",
       "    </tr>\n",
       "    <tr>\n",
       "      <th>article_identifier</th>\n",
       "      <td>article</td>\n",
       "      <td>3</td>\n",
       "      <td>For the purposes of this Agreement, unless oth...</td>\n",
       "    </tr>\n",
       "    <tr>\n",
       "      <th>name</th>\n",
       "      <td>article</td>\n",
       "      <td>General Definitions</td>\n",
       "      <td>For the purposes of this Agreement, unless oth...</td>\n",
       "    </tr>\n",
       "  </tbody>\n",
       "</table>\n",
       "</div>"
      ],
      "text/plain": [
       "                        tag               attrib  \\\n",
       "article_identifier  article                    2   \n",
       "name                article           Objectives   \n",
       "number              article            ARTICLE 1   \n",
       "article_identifier  article                    3   \n",
       "name                article  General Definitions   \n",
       "\n",
       "                                                                 text  \n",
       "article_identifier  The objectives of this Agreement are to:  (a) ...  \n",
       "name                The objectives of this Agreement are to:  (a) ...  \n",
       "number              The objectives of this Agreement are to:  (a) ...  \n",
       "article_identifier  For the purposes of this Agreement, unless oth...  \n",
       "name                For the purposes of this Agreement, unless oth...  "
      ]
     },
     "execution_count": 11,
     "metadata": {},
     "output_type": "execute_result"
    }
   ],
   "source": [
    "Data_myroot_1_1.head()"
   ]
  },
  {
   "cell_type": "code",
   "execution_count": 12,
   "metadata": {},
   "outputs": [],
   "source": [
    "para = myroot[1][1][0].text"
   ]
  },
  {
   "cell_type": "code",
   "execution_count": 13,
   "metadata": {},
   "outputs": [
    {
     "data": {
      "text/plain": [
       "'The objectives of this Agreement are to:  (a) liberalise and facilitate trade in goods and services between the Parties;  (b) realise and promote paperless trading between the Parties;  (c) facilitate the mutual recognition of the results of conformity assessment procedures for products or processes;  (d) encourage and promote investment and ensure protection for investments and investment activities in the Parties;  (e) facilitate the movement of natural persons;  (f) ensure and enhance adequate, effective and non-discriminatory protection of intellectual property to promote trade and investment between the Parties;  (g) enhance cooperation for mutual benefit of the Parties in the field of government procurement;  (h) promote fair and free competition by proscribing anti-competitive activities and cooperate in the field thereof;  (i) establish a framework for further bilateral cooperation; and  (j) promote transparency in the implementation of laws and regulations respecting matters covered by this Agreement.'"
      ]
     },
     "execution_count": 13,
     "metadata": {},
     "output_type": "execute_result"
    }
   ],
   "source": [
    "para"
   ]
  },
  {
   "cell_type": "markdown",
   "metadata": {},
   "source": [
    "A regular expression (or RE) specifies a set of strings that matches it; the functions in this module let you check if a particular string matches a given regular expression (or if a given regular expression matches a particular string, which comes down to the same thing)"
   ]
  },
  {
   "cell_type": "code",
   "execution_count": 14,
   "metadata": {},
   "outputs": [],
   "source": [
    "#Cleaning the text of para\n",
    "import re\n",
    "from nltk.corpus import stopwords\n",
    "from nltk.stem import WordNetLemmatizer"
   ]
  },
  {
   "cell_type": "code",
   "execution_count": 15,
   "metadata": {},
   "outputs": [],
   "source": [
    "#Lemmatization\n",
    "lemm = WordNetLemmatizer()\n",
    "sentences = nltk.sent_tokenize(para)\n",
    "for i in range(len(sentences)):\n",
    "    corpus = []\n",
    "    review = re.sub('[^a-zA-Z]',' ', sentences[i])\n",
    "    review = review.lower()\n",
    "    review = review.split()\n",
    "    review = [lemm.lemmatize(word) for word in review if word not in set(stopwords.words('english'))]\n",
    "    review = ' '.join(review)\n",
    "    corpus.append(review)"
   ]
  },
  {
   "cell_type": "code",
   "execution_count": 16,
   "metadata": {},
   "outputs": [
    {
     "data": {
      "text/plain": [
       "['objective agreement liberalise facilitate trade good service party b realise promote paperless trading party c facilitate mutual recognition result conformity assessment procedure product process encourage promote investment ensure protection investment investment activity party e facilitate movement natural person f ensure enhance adequate effective non discriminatory protection intellectual property promote trade investment party g enhance cooperation mutual benefit party field government procurement h promote fair free competition proscribing anti competitive activity cooperate field thereof establish framework bilateral cooperation j promote transparency implementation law regulation respecting matter covered agreement']"
      ]
     },
     "execution_count": 16,
     "metadata": {},
     "output_type": "execute_result"
    }
   ],
   "source": [
    "corpus"
   ]
  },
  {
   "cell_type": "code",
   "execution_count": 17,
   "metadata": {},
   "outputs": [],
   "source": [
    "#Creating the Bag of Words Model\n",
    "from sklearn.feature_extraction.text import CountVectorizer\n",
    "cv= CountVectorizer(max_features=100)\n",
    "X = cv.fit_transform(corpus).toarray()"
   ]
  },
  {
   "cell_type": "code",
   "execution_count": 18,
   "metadata": {},
   "outputs": [
    {
     "data": {
      "text/plain": [
       "array([[2, 1, 2, 1, 1, 1, 1, 1, 1, 1, 1, 2, 1, 1, 1, 1, 2, 2, 1, 3, 1, 2,\n",
       "        1, 1, 1, 1, 1, 1, 4, 1, 1, 1, 1, 2, 1, 1, 1, 1, 5, 1, 1, 1, 1, 1,\n",
       "        5, 1, 1, 2, 1, 1, 1, 1, 1, 1, 1, 2, 1, 1]], dtype=int64)"
      ]
     },
     "execution_count": 18,
     "metadata": {},
     "output_type": "execute_result"
    }
   ],
   "source": [
    "X"
   ]
  },
  {
   "cell_type": "markdown",
   "metadata": {},
   "source": [
    "#### Lemmatisation"
   ]
  },
  {
   "cell_type": "code",
   "execution_count": 19,
   "metadata": {},
   "outputs": [],
   "source": [
    "from nltk.stem import WordNetLemmatizer\n",
    "from nltk.corpus import stopwords"
   ]
  },
  {
   "cell_type": "code",
   "execution_count": 20,
   "metadata": {},
   "outputs": [],
   "source": [
    "sentences = nltk.sent_tokenize(para)\n",
    "lemmatizer = WordNetLemmatizer()"
   ]
  },
  {
   "cell_type": "code",
   "execution_count": 21,
   "metadata": {},
   "outputs": [],
   "source": [
    "#nltk.download('wordnet')"
   ]
  },
  {
   "cell_type": "code",
   "execution_count": 22,
   "metadata": {},
   "outputs": [],
   "source": [
    "#Lemmatisation and removing stop words, also will look forward to remove puntuations\n",
    "for i in range(len(sentences)):\n",
    "    words = nltk.word_tokenize(sentences[i])\n",
    "    words = [lemmatizer.lemmatize(word2) for word2 in words if word2 not in set(stopwords.words('english'))]\n",
    "    sentences = ' '.join(words)"
   ]
  },
  {
   "cell_type": "code",
   "execution_count": 23,
   "metadata": {},
   "outputs": [],
   "source": [
    "sentences = sentences.lower()\n",
    "\n",
    "PUNCT_TO_REMOVE = string.punctuation\n",
    "def remove_punctuation(sentences):\n",
    "    \"\"\"custom function to remove the punctuation\"\"\"\n",
    "    return sentences.translate(str.maketrans('', '', PUNCT_TO_REMOVE))\n",
    "\n",
    "sentences =  remove_punctuation(sentences)"
   ]
  },
  {
   "cell_type": "code",
   "execution_count": 24,
   "metadata": {},
   "outputs": [
    {
     "data": {
      "text/plain": [
       "'the objective agreement    liberalise facilitate trade good service parties   b  realise promote paperless trading parties   c  facilitate mutual recognition result conformity assessment procedure product process    encourage promote investment ensure protection investment investment activity parties   e  facilitate movement natural person   f  ensure enhance adequate  effective nondiscriminatory protection intellectual property promote trade investment parties   g  enhance cooperation mutual benefit parties field government procurement   h  promote fair free competition proscribing anticompetitive activity cooperate field thereof    establish framework bilateral cooperation   j  promote transparency implementation law regulation respecting matter covered agreement '"
      ]
     },
     "execution_count": 24,
     "metadata": {},
     "output_type": "execute_result"
    }
   ],
   "source": [
    "sentences"
   ]
  },
  {
   "cell_type": "markdown",
   "metadata": {},
   "source": [
    "#### Word 2 Vec "
   ]
  },
  {
   "cell_type": "code",
   "execution_count": 25,
   "metadata": {},
   "outputs": [
    {
     "ename": "ModuleNotFoundError",
     "evalue": "No module named 'gensim'",
     "output_type": "error",
     "traceback": [
      "\u001b[1;31m---------------------------------------------------------------------------\u001b[0m",
      "\u001b[1;31mModuleNotFoundError\u001b[0m                       Traceback (most recent call last)",
      "\u001b[1;32m<ipython-input-25-384f1c26d32d>\u001b[0m in \u001b[0;36m<module>\u001b[1;34m\u001b[0m\n\u001b[1;32m----> 1\u001b[1;33m \u001b[1;32mfrom\u001b[0m \u001b[0mgensim\u001b[0m\u001b[1;33m.\u001b[0m\u001b[0mmodels\u001b[0m \u001b[1;32mimport\u001b[0m \u001b[0mWord2Vec\u001b[0m\u001b[1;33m\u001b[0m\u001b[1;33m\u001b[0m\u001b[0m\n\u001b[0m",
      "\u001b[1;31mModuleNotFoundError\u001b[0m: No module named 'gensim'"
     ]
    }
   ],
   "source": [
    "from gensim.models import Word2Vec"
   ]
  },
  {
   "cell_type": "code",
   "execution_count": null,
   "metadata": {},
   "outputs": [],
   "source": []
  }
 ],
 "metadata": {
  "kernelspec": {
   "display_name": "Python 3",
   "language": "python",
   "name": "python3"
  },
  "language_info": {
   "codemirror_mode": {
    "name": "ipython",
    "version": 3
   },
   "file_extension": ".py",
   "mimetype": "text/x-python",
   "name": "python",
   "nbconvert_exporter": "python",
   "pygments_lexer": "ipython3",
   "version": "3.8.5"
  }
 },
 "nbformat": 4,
 "nbformat_minor": 4
}
