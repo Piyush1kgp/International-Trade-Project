{
 "cells": [
  {
   "cell_type": "code",
   "execution_count": 1,
   "metadata": {},
   "outputs": [],
   "source": [
    "import pandas as pd\n",
    "import numpy as np"
   ]
  },
  {
   "cell_type": "code",
   "execution_count": 23,
   "metadata": {},
   "outputs": [
    {
     "name": "stderr",
     "output_type": "stream",
     "text": [
      "C:\\Users\\Piyush A\\Anaconda3\\lib\\site-packages\\ipykernel_launcher.py:20: RuntimeWarning: divide by zero encountered in double_scalars\n"
     ]
    }
   ],
   "source": [
    "df = pd.read_csv(\".csv\")\n",
    "df1= df.loc[:,['ProductCode', 'Year', 'TradeFlowCode','TradeValue in 1000 USD','Quantity']]\n",
    "\n",
    "df1 = df1.fillna(0)\n",
    "\n",
    "y = len(df1.columns)\n",
    "x = len(df1)\n",
    "df2 = df1.copy()\n",
    "\n",
    "unit_ratios = []\n",
    "unit_years = []\n",
    "unit_code = []\n",
    "for i in range(x-1):\n",
    "    if df2.ProductCode[i]==df2.ProductCode[i+1] and (df2.Year[i] == df2.Year[i+1]):\n",
    "        if df2.loc[i+1,'Quantity'] == 0:\n",
    "            unit_code.append(df2.ProductCode[i])\n",
    "            unit_ratios.append(0)\n",
    "            unit_years.append(df2.Year[i])\n",
    "        else:\n",
    "            ratio = (df2.loc[i,'TradeValue in 1000 USD']/df2.loc[i,'Quantity'])/(df2.loc[i+1,'TradeValue in 1000 USD']/df2.loc[i+1,'Quantity'])\n",
    "            unit_code.append(df2.ProductCode[i])\n",
    "            unit_ratios.append(ratio)\n",
    "            unit_years.append(df2.Year[i])\n",
    "\n",
    "Base_data = pd.DataFrame(data=dict(Code=unit_code, Year = unit_years, Ratio = unit_ratios))\n",
    "\n",
    "x = len(Base_data)\n",
    "\n",
    "#Categorization of Data\n",
    "\n",
    "for i in range(x):\n",
    "    if Base_data.Ratio[i] < 0.85:\n",
    "        Base_data.loc[i,'Category'] = 'LVIIT'\n",
    "    elif Base_data.Ratio[i] > 1.15:\n",
    "        Base_data.loc[i,'Category'] = 'HVIIT'\n",
    "    else:\n",
    "        Base_data.loc[i,'Category'] = 'HIIT'\n",
    "\n",
    "IIT_index_cal = Base_data.drop(columns = ['Ratio'], axis=1)\n",
    "\n",
    "IIT_index_cal.rename(columns={'Code':'ProductCode'}, inplace=True)\n",
    "\n",
    "LVIIT_0 = IIT_index_cal[IIT_index_cal.Category == 'LVIIT']\n",
    "HIIT_0 = IIT_index_cal[IIT_index_cal.Category == 'HIIT']\n",
    "HVIIT_0 = IIT_index_cal[IIT_index_cal.Category == 'HVIIT']\n",
    "\n",
    "LVIIT = pd.merge(df2, LVIIT_0, on=['ProductCode', 'Year'])\n",
    "HIIT = pd.merge(df2, HIIT_0, on=['ProductCode', 'Year'])\n",
    "HVIIT = pd.merge(df2, HVIIT_0, on=['ProductCode', 'Year'])\n",
    "\n",
    "#Index Calculation\n",
    "\n",
    "Index_values = pd.DataFrame()\n",
    "\n",
    "x = len(HIIT)\n",
    "\n",
    "Index_df = pd.DataFrame()\n",
    "for i in range(int(x/2)):\n",
    "    Index_df.loc[i,'ProductCode'] = HIIT.loc[2*i, 'ProductCode']\n",
    "    Index_df.loc[i,'Year'] = HIIT.loc[2*i, 'Year']\n",
    "    Index_df.loc[i,'Sum'] = HIIT.loc[2*i,'TradeValue in 1000 USD']+HIIT.loc[2*i+1,'TradeValue in 1000 USD']\n",
    "    Index_df.loc[i,'Diff'] = abs(HIIT.loc[2*i,'TradeValue in 1000 USD']-HIIT.loc[2*i+1,'TradeValue in 1000 USD']) \n",
    "Index_group = Index_df.groupby(['Year']).sum()\n",
    "Index_group['Ratio']=1-Index_group['Diff']/Index_group['Sum']\n",
    "Index_values['HIIT'] = Index_group.Ratio    \n",
    "\n",
    "x = len(HVIIT)\n",
    "Index_df = pd.DataFrame()\n",
    "for i in range(int(x/2)):\n",
    "    Index_df.loc[i,'Year'] = HVIIT.Year[2*i]\n",
    "    Index_df.loc[i,'Sum'] = HVIIT.loc[2*i,'TradeValue in 1000 USD']+HVIIT.loc[2*i+1,'TradeValue in 1000 USD']\n",
    "    Index_df.loc[i,'Diff'] = abs(HVIIT.loc[2*i,'TradeValue in 1000 USD']-HVIIT.loc[2*i+1,'TradeValue in 1000 USD']) \n",
    "Index_group = Index_df.groupby(['Year']).sum()\n",
    "Index_group['Ratio']=1-Index_group['Diff']/Index_group['Sum']\n",
    "Index_values['HVIIT'] = Index_group.Ratio    \n",
    "\n",
    "x = len(LVIIT)\n",
    "Index_df = pd.DataFrame()\n",
    "for i in range(int(x/2)):\n",
    "    Index_df.loc[i,'Year'] = LVIIT.Year[2*i]\n",
    "    Index_df.loc[i,'Sum'] = LVIIT.loc[2*i,'TradeValue in 1000 USD']+LVIIT.loc[2*i+1,'TradeValue in 1000 USD']\n",
    "    Index_df.loc[i,'Diff'] = abs(LVIIT.loc[2*i,'TradeValue in 1000 USD']-LVIIT.loc[2*i+1,'TradeValue in 1000 USD']) \n",
    "Index_group = Index_df.groupby(['Year']).sum()\n",
    "Index_group['Ratio']=1-Index_group['Diff']/Index_group['Sum']\n",
    "Index_values['LVIIT'] = Index_group.Ratio    \n",
    "\n",
    "data_country = df.loc[1,'ReporterName']\n",
    "type(data_country)\n",
    "with pd.ExcelWriter(r'HIIT_LVIIT_HVIIT_'+data_country+r'.xlsx') as writer:  \n",
    "    Index_values.to_excel(writer, sheet_name=data_country)"
   ]
  },
  {
   "cell_type": "code",
   "execution_count": 28,
   "metadata": {},
   "outputs": [
    {
     "name": "stderr",
     "output_type": "stream",
     "text": [
      "C:\\Users\\Piyush A\\Anaconda3\\lib\\site-packages\\ipykernel_launcher.py:21: RuntimeWarning: divide by zero encountered in double_scalars\n"
     ]
    }
   ],
   "source": [
    "for i in range(3):    \n",
    "    df = pd.read_csv(str(i)+\".csv\")\n",
    "    df1= df.loc[:,['ProductCode', 'Year', 'TradeFlowCode','TradeValue in 1000 USD','Quantity']]\n",
    "\n",
    "    df1 = df1.fillna(0)\n",
    "\n",
    "    y = len(df1.columns)\n",
    "    x = len(df1)\n",
    "    df2 = df1.copy()\n",
    "\n",
    "    unit_ratios = []\n",
    "    unit_years = []\n",
    "    unit_code = []\n",
    "    for i in range(x-1):\n",
    "        if df2.ProductCode[i]==df2.ProductCode[i+1] and (df2.Year[i] == df2.Year[i+1]):\n",
    "            if df2.loc[i+1,'Quantity'] == 0:\n",
    "                unit_code.append(df2.ProductCode[i])\n",
    "                unit_ratios.append(0)\n",
    "                unit_years.append(df2.Year[i])\n",
    "            else:\n",
    "                ratio = (df2.loc[i,'TradeValue in 1000 USD']/df2.loc[i,'Quantity'])/(df2.loc[i+1,'TradeValue in 1000 USD']/df2.loc[i+1,'Quantity'])\n",
    "                unit_code.append(df2.ProductCode[i])\n",
    "                unit_ratios.append(ratio)\n",
    "                unit_years.append(df2.Year[i])\n",
    "\n",
    "    Base_data = pd.DataFrame(data=dict(Code=unit_code, Year = unit_years, Ratio = unit_ratios))\n",
    "\n",
    "    x = len(Base_data)\n",
    "\n",
    "    #Categorization of Data\n",
    "\n",
    "    for i in range(x):\n",
    "        if Base_data.Ratio[i] < 0.85:\n",
    "            Base_data.loc[i,'Category'] = 'LVIIT'\n",
    "        elif Base_data.Ratio[i] > 1.15:\n",
    "            Base_data.loc[i,'Category'] = 'HVIIT'\n",
    "        else:\n",
    "            Base_data.loc[i,'Category'] = 'HIIT'\n",
    "\n",
    "    IIT_index_cal = Base_data.drop(columns = ['Ratio'], axis=1)\n",
    "\n",
    "    IIT_index_cal.rename(columns={'Code':'ProductCode'}, inplace=True)\n",
    "\n",
    "    LVIIT_0 = IIT_index_cal[IIT_index_cal.Category == 'LVIIT']\n",
    "    HIIT_0 = IIT_index_cal[IIT_index_cal.Category == 'HIIT']\n",
    "    HVIIT_0 = IIT_index_cal[IIT_index_cal.Category == 'HVIIT']\n",
    "\n",
    "    LVIIT = pd.merge(df2, LVIIT_0, on=['ProductCode', 'Year'])\n",
    "    HIIT = pd.merge(df2, HIIT_0, on=['ProductCode', 'Year'])\n",
    "    HVIIT = pd.merge(df2, HVIIT_0, on=['ProductCode', 'Year'])\n",
    "\n",
    "    #Index Calculation\n",
    "\n",
    "    Index_values = pd.DataFrame()\n",
    "\n",
    "    x = len(HIIT)\n",
    "\n",
    "    Index_df = pd.DataFrame()\n",
    "    for i in range(int(x/2)):\n",
    "        Index_df.loc[i,'ProductCode'] = HIIT.loc[2*i, 'ProductCode']\n",
    "        Index_df.loc[i,'Year'] = HIIT.loc[2*i, 'Year']\n",
    "        Index_df.loc[i,'Sum'] = HIIT.loc[2*i,'TradeValue in 1000 USD']+HIIT.loc[2*i+1,'TradeValue in 1000 USD']\n",
    "        Index_df.loc[i,'Diff'] = abs(HIIT.loc[2*i,'TradeValue in 1000 USD']-HIIT.loc[2*i+1,'TradeValue in 1000 USD']) \n",
    "    Index_group = Index_df.groupby(['Year']).sum()\n",
    "    Index_group['Ratio']=1-Index_group['Diff']/Index_group['Sum']\n",
    "    Index_values['HIIT'] = Index_group.Ratio    \n",
    "\n",
    "    x = len(HVIIT)\n",
    "    Index_df = pd.DataFrame()\n",
    "    for i in range(int(x/2)):\n",
    "        Index_df.loc[i,'Year'] = HVIIT.Year[2*i]\n",
    "        Index_df.loc[i,'Sum'] = HVIIT.loc[2*i,'TradeValue in 1000 USD']+HVIIT.loc[2*i+1,'TradeValue in 1000 USD']\n",
    "        Index_df.loc[i,'Diff'] = abs(HVIIT.loc[2*i,'TradeValue in 1000 USD']-HVIIT.loc[2*i+1,'TradeValue in 1000 USD']) \n",
    "    Index_group = Index_df.groupby(['Year']).sum()\n",
    "    Index_group['Ratio']=1-Index_group['Diff']/Index_group['Sum']\n",
    "    Index_values['HVIIT'] = Index_group.Ratio    \n",
    "\n",
    "    x = len(LVIIT)\n",
    "    Index_df = pd.DataFrame()\n",
    "    for i in range(int(x/2)):\n",
    "        Index_df.loc[i,'Year'] = LVIIT.Year[2*i]\n",
    "        Index_df.loc[i,'Sum'] = LVIIT.loc[2*i,'TradeValue in 1000 USD']+LVIIT.loc[2*i+1,'TradeValue in 1000 USD']\n",
    "        Index_df.loc[i,'Diff'] = abs(LVIIT.loc[2*i,'TradeValue in 1000 USD']-LVIIT.loc[2*i+1,'TradeValue in 1000 USD']) \n",
    "    Index_group = Index_df.groupby(['Year']).sum()\n",
    "    Index_group['Ratio']=1-Index_group['Diff']/Index_group['Sum']\n",
    "    Index_values['LVIIT'] = Index_group.Ratio    \n",
    "\n",
    "    data_country = df.loc[1,'ReporterName']\n",
    "    type(data_country)\n",
    "    with pd.ExcelWriter(r'HIIT_LVIIT_HVIIT_'+data_country+r'.xlsx') as writer:  \n",
    "        Index_values.to_excel(writer, sheet_name=data_country)"
   ]
  },
  {
   "cell_type": "code",
   "execution_count": 34,
   "metadata": {},
   "outputs": [],
   "source": [
    "from pandas import ExcelWriter\n",
    "import glob\n",
    "writer = ExcelWriter(\"HIIT_LVIIT_HVIIT.xlsx\")\n",
    "\n",
    "for filename in glob.glob(\"*.xlsx\"):\n",
    "    excel_file = pd.ExcelFile(filename)\n",
    "    for sheet_name in excel_file.sheet_names:\n",
    "        df_excel = pd.read_excel(filename, sheet_name=sheet_name)\n",
    "        df_excel.to_excel(writer, sheet_name, index=False)\n",
    "\n",
    "writer.save()"
   ]
  },
  {
   "cell_type": "code",
   "execution_count": 1,
   "metadata": {},
   "outputs": [],
   "source": [
    "#Merging all datasheets into one excel sheet"
   ]
  },
  {
   "cell_type": "code",
   "execution_count": 2,
   "metadata": {},
   "outputs": [],
   "source": [
    "import pandas as pd"
   ]
  },
  {
   "cell_type": "code",
   "execution_count": 26,
   "metadata": {},
   "outputs": [],
   "source": [
    "df = pd.concat(pd.read_excel('HIIT_LVIIT_HVIIT_2007_onwards_Rich&PoorCountries.xlsx', sheet_name = None))"
   ]
  },
  {
   "cell_type": "code",
   "execution_count": 27,
   "metadata": {},
   "outputs": [
    {
     "data": {
      "text/plain": [
       "(455, 4)"
      ]
     },
     "execution_count": 27,
     "metadata": {},
     "output_type": "execute_result"
    }
   ],
   "source": [
    "df.shape"
   ]
  },
  {
   "cell_type": "code",
   "execution_count": 28,
   "metadata": {},
   "outputs": [
    {
     "data": {
      "text/html": [
       "<div>\n",
       "<style scoped>\n",
       "    .dataframe tbody tr th:only-of-type {\n",
       "        vertical-align: middle;\n",
       "    }\n",
       "\n",
       "    .dataframe tbody tr th {\n",
       "        vertical-align: top;\n",
       "    }\n",
       "\n",
       "    .dataframe thead th {\n",
       "        text-align: right;\n",
       "    }\n",
       "</style>\n",
       "<table border=\"1\" class=\"dataframe\">\n",
       "  <thead>\n",
       "    <tr style=\"text-align: right;\">\n",
       "      <th></th>\n",
       "      <th></th>\n",
       "      <th>Year</th>\n",
       "      <th>HIIT</th>\n",
       "      <th>HVIIT</th>\n",
       "      <th>LVIIT</th>\n",
       "    </tr>\n",
       "  </thead>\n",
       "  <tbody>\n",
       "    <tr>\n",
       "      <th rowspan=\"5\" valign=\"top\">Argentina</th>\n",
       "      <th>0</th>\n",
       "      <td>2007</td>\n",
       "      <td>0.245565</td>\n",
       "      <td>0.100084</td>\n",
       "      <td>0.104928</td>\n",
       "    </tr>\n",
       "    <tr>\n",
       "      <th>1</th>\n",
       "      <td>2008</td>\n",
       "      <td>0.178334</td>\n",
       "      <td>0.141943</td>\n",
       "      <td>0.102654</td>\n",
       "    </tr>\n",
       "    <tr>\n",
       "      <th>2</th>\n",
       "      <td>2009</td>\n",
       "      <td>0.205973</td>\n",
       "      <td>0.099622</td>\n",
       "      <td>0.092472</td>\n",
       "    </tr>\n",
       "    <tr>\n",
       "      <th>3</th>\n",
       "      <td>2010</td>\n",
       "      <td>0.093932</td>\n",
       "      <td>0.065805</td>\n",
       "      <td>0.104057</td>\n",
       "    </tr>\n",
       "    <tr>\n",
       "      <th>4</th>\n",
       "      <td>2011</td>\n",
       "      <td>0.206153</td>\n",
       "      <td>0.055384</td>\n",
       "      <td>0.104446</td>\n",
       "    </tr>\n",
       "  </tbody>\n",
       "</table>\n",
       "</div>"
      ],
      "text/plain": [
       "             Year      HIIT     HVIIT     LVIIT\n",
       "Argentina 0  2007  0.245565  0.100084  0.104928\n",
       "          1  2008  0.178334  0.141943  0.102654\n",
       "          2  2009  0.205973  0.099622  0.092472\n",
       "          3  2010  0.093932  0.065805  0.104057\n",
       "          4  2011  0.206153  0.055384  0.104446"
      ]
     },
     "execution_count": 28,
     "metadata": {},
     "output_type": "execute_result"
    }
   ],
   "source": [
    "df.head()"
   ]
  },
  {
   "cell_type": "code",
   "execution_count": 15,
   "metadata": {},
   "outputs": [],
   "source": [
    "df.to_excel(\"HIIT_LVIIT_HVIIT_2007_onwards_Rich&PoorCountries_merged_dataset.xlsx\")"
   ]
  },
  {
   "cell_type": "code",
   "execution_count": 29,
   "metadata": {},
   "outputs": [
    {
     "data": {
      "text/plain": [
       "Index(['Year', 'HIIT', 'HVIIT', 'LVIIT'], dtype='object')"
      ]
     },
     "execution_count": 29,
     "metadata": {},
     "output_type": "execute_result"
    }
   ],
   "source": [
    "df.keys()"
   ]
  },
  {
   "cell_type": "code",
   "execution_count": 30,
   "metadata": {},
   "outputs": [
    {
     "data": {
      "text/plain": [
       "MultiIndex([('Argentina',  0),\n",
       "            ('Argentina',  1),\n",
       "            ('Argentina',  2),\n",
       "            ('Argentina',  3),\n",
       "            ('Argentina',  4),\n",
       "            ('Argentina',  5),\n",
       "            ('Argentina',  6),\n",
       "            ('Argentina',  7),\n",
       "            ('Argentina',  8),\n",
       "            ('Argentina',  9),\n",
       "            ...\n",
       "            (  'Uruguay',  2),\n",
       "            (  'Uruguay',  3),\n",
       "            (  'Uruguay',  4),\n",
       "            (  'Uruguay',  5),\n",
       "            (  'Uruguay',  6),\n",
       "            (  'Uruguay',  7),\n",
       "            (  'Uruguay',  8),\n",
       "            (  'Uruguay',  9),\n",
       "            (  'Uruguay', 10),\n",
       "            (  'Uruguay', 11)],\n",
       "           length=455)"
      ]
     },
     "execution_count": 30,
     "metadata": {},
     "output_type": "execute_result"
    }
   ],
   "source": [
    "df.index"
   ]
  },
  {
   "cell_type": "code",
   "execution_count": 31,
   "metadata": {},
   "outputs": [],
   "source": [
    "df.reset_index(inplace=True)"
   ]
  },
  {
   "cell_type": "code",
   "execution_count": 32,
   "metadata": {},
   "outputs": [
    {
     "data": {
      "text/html": [
       "<div>\n",
       "<style scoped>\n",
       "    .dataframe tbody tr th:only-of-type {\n",
       "        vertical-align: middle;\n",
       "    }\n",
       "\n",
       "    .dataframe tbody tr th {\n",
       "        vertical-align: top;\n",
       "    }\n",
       "\n",
       "    .dataframe thead th {\n",
       "        text-align: right;\n",
       "    }\n",
       "</style>\n",
       "<table border=\"1\" class=\"dataframe\">\n",
       "  <thead>\n",
       "    <tr style=\"text-align: right;\">\n",
       "      <th></th>\n",
       "      <th>level_0</th>\n",
       "      <th>level_1</th>\n",
       "      <th>Year</th>\n",
       "      <th>HIIT</th>\n",
       "      <th>HVIIT</th>\n",
       "      <th>LVIIT</th>\n",
       "    </tr>\n",
       "  </thead>\n",
       "  <tbody>\n",
       "    <tr>\n",
       "      <th>0</th>\n",
       "      <td>Argentina</td>\n",
       "      <td>0</td>\n",
       "      <td>2007</td>\n",
       "      <td>0.245565</td>\n",
       "      <td>0.100084</td>\n",
       "      <td>0.104928</td>\n",
       "    </tr>\n",
       "    <tr>\n",
       "      <th>1</th>\n",
       "      <td>Argentina</td>\n",
       "      <td>1</td>\n",
       "      <td>2008</td>\n",
       "      <td>0.178334</td>\n",
       "      <td>0.141943</td>\n",
       "      <td>0.102654</td>\n",
       "    </tr>\n",
       "    <tr>\n",
       "      <th>2</th>\n",
       "      <td>Argentina</td>\n",
       "      <td>2</td>\n",
       "      <td>2009</td>\n",
       "      <td>0.205973</td>\n",
       "      <td>0.099622</td>\n",
       "      <td>0.092472</td>\n",
       "    </tr>\n",
       "    <tr>\n",
       "      <th>3</th>\n",
       "      <td>Argentina</td>\n",
       "      <td>3</td>\n",
       "      <td>2010</td>\n",
       "      <td>0.093932</td>\n",
       "      <td>0.065805</td>\n",
       "      <td>0.104057</td>\n",
       "    </tr>\n",
       "    <tr>\n",
       "      <th>4</th>\n",
       "      <td>Argentina</td>\n",
       "      <td>4</td>\n",
       "      <td>2011</td>\n",
       "      <td>0.206153</td>\n",
       "      <td>0.055384</td>\n",
       "      <td>0.104446</td>\n",
       "    </tr>\n",
       "  </tbody>\n",
       "</table>\n",
       "</div>"
      ],
      "text/plain": [
       "     level_0  level_1  Year      HIIT     HVIIT     LVIIT\n",
       "0  Argentina        0  2007  0.245565  0.100084  0.104928\n",
       "1  Argentina        1  2008  0.178334  0.141943  0.102654\n",
       "2  Argentina        2  2009  0.205973  0.099622  0.092472\n",
       "3  Argentina        3  2010  0.093932  0.065805  0.104057\n",
       "4  Argentina        4  2011  0.206153  0.055384  0.104446"
      ]
     },
     "execution_count": 32,
     "metadata": {},
     "output_type": "execute_result"
    }
   ],
   "source": [
    "df.head()"
   ]
  },
  {
   "cell_type": "code",
   "execution_count": 35,
   "metadata": {},
   "outputs": [],
   "source": [
    "df.drop(columns = ['level_1'], inplace = True)"
   ]
  },
  {
   "cell_type": "code",
   "execution_count": 38,
   "metadata": {},
   "outputs": [],
   "source": [
    "df.rename(columns = {\"level_0\":\"Country\"}, inplace=True)"
   ]
  },
  {
   "cell_type": "code",
   "execution_count": 39,
   "metadata": {},
   "outputs": [
    {
     "data": {
      "text/html": [
       "<div>\n",
       "<style scoped>\n",
       "    .dataframe tbody tr th:only-of-type {\n",
       "        vertical-align: middle;\n",
       "    }\n",
       "\n",
       "    .dataframe tbody tr th {\n",
       "        vertical-align: top;\n",
       "    }\n",
       "\n",
       "    .dataframe thead th {\n",
       "        text-align: right;\n",
       "    }\n",
       "</style>\n",
       "<table border=\"1\" class=\"dataframe\">\n",
       "  <thead>\n",
       "    <tr style=\"text-align: right;\">\n",
       "      <th></th>\n",
       "      <th>Country</th>\n",
       "      <th>Year</th>\n",
       "      <th>HIIT</th>\n",
       "      <th>HVIIT</th>\n",
       "      <th>LVIIT</th>\n",
       "    </tr>\n",
       "  </thead>\n",
       "  <tbody>\n",
       "    <tr>\n",
       "      <th>0</th>\n",
       "      <td>Argentina</td>\n",
       "      <td>2007</td>\n",
       "      <td>0.245565</td>\n",
       "      <td>0.100084</td>\n",
       "      <td>0.104928</td>\n",
       "    </tr>\n",
       "    <tr>\n",
       "      <th>1</th>\n",
       "      <td>Argentina</td>\n",
       "      <td>2008</td>\n",
       "      <td>0.178334</td>\n",
       "      <td>0.141943</td>\n",
       "      <td>0.102654</td>\n",
       "    </tr>\n",
       "    <tr>\n",
       "      <th>2</th>\n",
       "      <td>Argentina</td>\n",
       "      <td>2009</td>\n",
       "      <td>0.205973</td>\n",
       "      <td>0.099622</td>\n",
       "      <td>0.092472</td>\n",
       "    </tr>\n",
       "    <tr>\n",
       "      <th>3</th>\n",
       "      <td>Argentina</td>\n",
       "      <td>2010</td>\n",
       "      <td>0.093932</td>\n",
       "      <td>0.065805</td>\n",
       "      <td>0.104057</td>\n",
       "    </tr>\n",
       "    <tr>\n",
       "      <th>4</th>\n",
       "      <td>Argentina</td>\n",
       "      <td>2011</td>\n",
       "      <td>0.206153</td>\n",
       "      <td>0.055384</td>\n",
       "      <td>0.104446</td>\n",
       "    </tr>\n",
       "  </tbody>\n",
       "</table>\n",
       "</div>"
      ],
      "text/plain": [
       "     Country  Year      HIIT     HVIIT     LVIIT\n",
       "0  Argentina  2007  0.245565  0.100084  0.104928\n",
       "1  Argentina  2008  0.178334  0.141943  0.102654\n",
       "2  Argentina  2009  0.205973  0.099622  0.092472\n",
       "3  Argentina  2010  0.093932  0.065805  0.104057\n",
       "4  Argentina  2011  0.206153  0.055384  0.104446"
      ]
     },
     "execution_count": 39,
     "metadata": {},
     "output_type": "execute_result"
    }
   ],
   "source": [
    "df.head()"
   ]
  },
  {
   "cell_type": "code",
   "execution_count": 40,
   "metadata": {},
   "outputs": [],
   "source": [
    "df.to_excel(\"HIIT_LVIIT_HVIIT_2007_onwards_Rich&PoorCountries_merged_dataset.xlsx\")"
   ]
  },
  {
   "cell_type": "code",
   "execution_count": null,
   "metadata": {},
   "outputs": [],
   "source": []
  }
 ],
 "metadata": {
  "kernelspec": {
   "display_name": "Python 3",
   "language": "python",
   "name": "python3"
  },
  "language_info": {
   "codemirror_mode": {
    "name": "ipython",
    "version": 3
   },
   "file_extension": ".py",
   "mimetype": "text/x-python",
   "name": "python",
   "nbconvert_exporter": "python",
   "pygments_lexer": "ipython3",
   "version": "3.7.7"
  }
 },
 "nbformat": 4,
 "nbformat_minor": 4
}
